{
 "cells": [
  {
   "cell_type": "code",
   "execution_count": 1,
   "id": "71f09d98-95b5-4339-9e5f-584c980b0407",
   "metadata": {},
   "outputs": [
    {
     "name": "stderr",
     "output_type": "stream",
     "text": [
      "[nltk_data] Downloading package vader_lexicon to\n",
      "[nltk_data]     C:\\Users\\alber\\AppData\\Roaming\\nltk_data...\n",
      "[nltk_data]   Package vader_lexicon is already up-to-date!\n"
     ]
    }
   ],
   "source": [
    "import pandas as pd\n",
    "from pathlib import Path\n",
    "import nltk\n",
    "nltk.download('vader_lexicon')\n",
    "from nltk.sentiment.vader import SentimentIntensityAnalyzer\n",
    "import numpy as np\n",
    "from transformers import AutoTokenizer, AutoModelForSequenceClassification\n",
    "from scipy.special import softmax"
   ]
  },
  {
   "cell_type": "code",
   "execution_count": 2,
   "id": "ffcec313-c7fa-4b65-a0d0-9f10a3a13b62",
   "metadata": {},
   "outputs": [],
   "source": [
    "df = pd.read_csv(Path(\"Sample GPT tweets.csv\"))"
   ]
  },
  {
   "cell_type": "markdown",
   "id": "08e9007a-9122-4064-802e-5b4c341cc506",
   "metadata": {},
   "source": [
    "## getting rid of rows that has nothing to do with ChatGPT based on the text only."
   ]
  },
  {
   "cell_type": "code",
   "execution_count": 3,
   "id": "d88af46f-a015-4fc3-9cb8-10e1ce2bda87",
   "metadata": {
    "tags": []
   },
   "outputs": [
    {
     "data": {
      "text/html": [
       "<div>\n",
       "<style scoped>\n",
       "    .dataframe tbody tr th:only-of-type {\n",
       "        vertical-align: middle;\n",
       "    }\n",
       "\n",
       "    .dataframe tbody tr th {\n",
       "        vertical-align: top;\n",
       "    }\n",
       "\n",
       "    .dataframe thead th {\n",
       "        text-align: right;\n",
       "    }\n",
       "</style>\n",
       "<table border=\"1\" class=\"dataframe\">\n",
       "  <thead>\n",
       "    <tr style=\"text-align: right;\">\n",
       "      <th></th>\n",
       "      <th>user_name</th>\n",
       "      <th>text</th>\n",
       "      <th>user_location</th>\n",
       "      <th>result</th>\n",
       "      <th>user_description</th>\n",
       "      <th>user_created</th>\n",
       "      <th>user_followers</th>\n",
       "      <th>user_friends</th>\n",
       "      <th>user_favourites</th>\n",
       "      <th>user_verified</th>\n",
       "      <th>date</th>\n",
       "      <th>hashtags</th>\n",
       "      <th>source</th>\n",
       "      <th>Unnamed: 13</th>\n",
       "    </tr>\n",
       "  </thead>\n",
       "  <tbody>\n",
       "    <tr>\n",
       "      <th>0</th>\n",
       "      <td>Math_Maniac</td>\n",
       "      <td>ChatGPT does ascii art\\n#ChatGPT https://t.co/...</td>\n",
       "      <td>Decatur, GA</td>\n",
       "      <td>NaN</td>\n",
       "      <td>I work with a number of tools. Right now it's ...</td>\n",
       "      <td>2020-07-20 14:24:50+00:00</td>\n",
       "      <td>467</td>\n",
       "      <td>1233</td>\n",
       "      <td>49216</td>\n",
       "      <td>False</td>\n",
       "      <td>2023-04-02 13:44:07+00:00</td>\n",
       "      <td>['ChatGPT']</td>\n",
       "      <td>Twitter Web App</td>\n",
       "      <td>chatgpt</td>\n",
       "    </tr>\n",
       "    <tr>\n",
       "      <th>1</th>\n",
       "      <td>SmashKoders</td>\n",
       "      <td>#ChatGPT is funny sometimes 😅 https://t.co/cSa...</td>\n",
       "      <td>Mumbai</td>\n",
       "      <td>NaN</td>\n",
       "      <td>My life changed while debugging code 😊</td>\n",
       "      <td>2022-06-18 04:34:18+00:00</td>\n",
       "      <td>8</td>\n",
       "      <td>126</td>\n",
       "      <td>239</td>\n",
       "      <td>False</td>\n",
       "      <td>2023-04-02 13:43:46+00:00</td>\n",
       "      <td>['ChatGPT']</td>\n",
       "      <td>Twitter Web App</td>\n",
       "      <td>NaN</td>\n",
       "    </tr>\n",
       "    <tr>\n",
       "      <th>2</th>\n",
       "      <td>Andreas Illenseer</td>\n",
       "      <td>Let’s put it in graphic terms. Drawing a #Unic...</td>\n",
       "      <td>Mainz, Deutschland</td>\n",
       "      <td>NaN</td>\n",
       "      <td>Specialized in Regulatory &amp; Digital Intelligen...</td>\n",
       "      <td>2017-10-31 19:35:24+00:00</td>\n",
       "      <td>63</td>\n",
       "      <td>188</td>\n",
       "      <td>88</td>\n",
       "      <td>False</td>\n",
       "      <td>2023-04-02 13:43:36+00:00</td>\n",
       "      <td>['Unicorn']</td>\n",
       "      <td>Twitter for iPhone</td>\n",
       "      <td>NaN</td>\n",
       "    </tr>\n",
       "    <tr>\n",
       "      <th>4</th>\n",
       "      <td>The Media Scoop</td>\n",
       "      <td>Italian data protection agency placed an immed...</td>\n",
       "      <td>India</td>\n",
       "      <td>NaN</td>\n",
       "      <td>Independent news aggregator &amp; YouTuber at The ...</td>\n",
       "      <td>2023-03-07 01:51:53+00:00</td>\n",
       "      <td>0</td>\n",
       "      <td>37</td>\n",
       "      <td>0</td>\n",
       "      <td>False</td>\n",
       "      <td>2023-04-02 13:42:56+00:00</td>\n",
       "      <td>NaN</td>\n",
       "      <td>Twitter Web App</td>\n",
       "      <td>NaN</td>\n",
       "    </tr>\n",
       "    <tr>\n",
       "      <th>5</th>\n",
       "      <td>Game Development Daily News</td>\n",
       "      <td>Will your games be marketed by ChatGPT? https:...</td>\n",
       "      <td>NaN</td>\n",
       "      <td>NaN</td>\n",
       "      <td>Your source for daily news about game developm...</td>\n",
       "      <td>2020-09-03 15:30:02+00:00</td>\n",
       "      <td>2525</td>\n",
       "      <td>724</td>\n",
       "      <td>1108</td>\n",
       "      <td>False</td>\n",
       "      <td>2023-04-02 13:42:54+00:00</td>\n",
       "      <td>['gamedev', 'gamedevelopment', 'indiedev', 'AI...</td>\n",
       "      <td>Twitter Web App</td>\n",
       "      <td>NaN</td>\n",
       "    </tr>\n",
       "    <tr>\n",
       "      <th>...</th>\n",
       "      <td>...</td>\n",
       "      <td>...</td>\n",
       "      <td>...</td>\n",
       "      <td>...</td>\n",
       "      <td>...</td>\n",
       "      <td>...</td>\n",
       "      <td>...</td>\n",
       "      <td>...</td>\n",
       "      <td>...</td>\n",
       "      <td>...</td>\n",
       "      <td>...</td>\n",
       "      <td>...</td>\n",
       "      <td>...</td>\n",
       "      <td>...</td>\n",
       "    </tr>\n",
       "    <tr>\n",
       "      <th>94</th>\n",
       "      <td>Most Bay▶️</td>\n",
       "      <td>RiverRise(.)com SOLD for $2,288 -BuyDomains, A...</td>\n",
       "      <td>JakartaX.com</td>\n",
       "      <td>NaN</td>\n",
       "      <td>Investor in #Crypto &amp; #DomainNames. Selling: h...</td>\n",
       "      <td>2012-09-15 17:30:34+00:00</td>\n",
       "      <td>2343</td>\n",
       "      <td>4338</td>\n",
       "      <td>15594</td>\n",
       "      <td>False</td>\n",
       "      <td>2023-04-02 13:14:06+00:00</td>\n",
       "      <td>NaN</td>\n",
       "      <td>Twitter Web App</td>\n",
       "      <td>NaN</td>\n",
       "    </tr>\n",
       "    <tr>\n",
       "      <th>95</th>\n",
       "      <td>fracksix</td>\n",
       "      <td>#ChatGPT cannot save us. https://t.co/tmAMM5zdzu</td>\n",
       "      <td>NaN</td>\n",
       "      <td>NaN</td>\n",
       "      <td>NaN</td>\n",
       "      <td>2023-03-07 18:17:30+00:00</td>\n",
       "      <td>3</td>\n",
       "      <td>28</td>\n",
       "      <td>0</td>\n",
       "      <td>False</td>\n",
       "      <td>2023-04-02 13:13:58+00:00</td>\n",
       "      <td>['ChatGPT']</td>\n",
       "      <td>Twitter for iPhone</td>\n",
       "      <td>NaN</td>\n",
       "    </tr>\n",
       "    <tr>\n",
       "      <th>97</th>\n",
       "      <td>Sundar Narasimhan</td>\n",
       "      <td>Great discussion at @theallinpod esp. regardin...</td>\n",
       "      <td>NaN</td>\n",
       "      <td>NaN</td>\n",
       "      <td>NaN</td>\n",
       "      <td>2012-02-19 20:32:50+00:00</td>\n",
       "      <td>99</td>\n",
       "      <td>1058</td>\n",
       "      <td>1175</td>\n",
       "      <td>False</td>\n",
       "      <td>2023-04-02 13:13:37+00:00</td>\n",
       "      <td>NaN</td>\n",
       "      <td>Twitter for Android</td>\n",
       "      <td>NaN</td>\n",
       "    </tr>\n",
       "    <tr>\n",
       "      <th>98</th>\n",
       "      <td>Most Bay▶️</td>\n",
       "      <td>ClientFinancing(.)com SOLD for $2,288 -BuyDoma...</td>\n",
       "      <td>JakartaX.com</td>\n",
       "      <td>NaN</td>\n",
       "      <td>Investor in #Crypto &amp; #DomainNames. Selling: h...</td>\n",
       "      <td>2012-09-15 17:30:34+00:00</td>\n",
       "      <td>2343</td>\n",
       "      <td>4338</td>\n",
       "      <td>15594</td>\n",
       "      <td>False</td>\n",
       "      <td>2023-04-02 13:12:06+00:00</td>\n",
       "      <td>NaN</td>\n",
       "      <td>Twitter Web App</td>\n",
       "      <td>NaN</td>\n",
       "    </tr>\n",
       "    <tr>\n",
       "      <th>99</th>\n",
       "      <td>Alvaro Ramirez</td>\n",
       "      <td>chatgpt-shell now offers a post-processing cus...</td>\n",
       "      <td>In Emacs, somewhere in London</td>\n",
       "      <td>NaN</td>\n",
       "      <td>https://t.co/cWRvlp5UQ0</td>\n",
       "      <td>2010-03-03 14:23:24+00:00</td>\n",
       "      <td>523</td>\n",
       "      <td>1097</td>\n",
       "      <td>1251</td>\n",
       "      <td>False</td>\n",
       "      <td>2023-04-02 13:11:55+00:00</td>\n",
       "      <td>NaN</td>\n",
       "      <td>Twitter Web App</td>\n",
       "      <td>NaN</td>\n",
       "    </tr>\n",
       "  </tbody>\n",
       "</table>\n",
       "<p>75 rows × 14 columns</p>\n",
       "</div>"
      ],
      "text/plain": [
       "                      user_name  \\\n",
       "0                   Math_Maniac   \n",
       "1                   SmashKoders   \n",
       "2             Andreas Illenseer   \n",
       "4               The Media Scoop   \n",
       "5   Game Development Daily News   \n",
       "..                          ...   \n",
       "94                   Most Bay▶️   \n",
       "95                     fracksix   \n",
       "97            Sundar Narasimhan   \n",
       "98                   Most Bay▶️   \n",
       "99               Alvaro Ramirez   \n",
       "\n",
       "                                                 text  \\\n",
       "0   ChatGPT does ascii art\\n#ChatGPT https://t.co/...   \n",
       "1   #ChatGPT is funny sometimes 😅 https://t.co/cSa...   \n",
       "2   Let’s put it in graphic terms. Drawing a #Unic...   \n",
       "4   Italian data protection agency placed an immed...   \n",
       "5   Will your games be marketed by ChatGPT? https:...   \n",
       "..                                                ...   \n",
       "94  RiverRise(.)com SOLD for $2,288 -BuyDomains, A...   \n",
       "95   #ChatGPT cannot save us. https://t.co/tmAMM5zdzu   \n",
       "97  Great discussion at @theallinpod esp. regardin...   \n",
       "98  ClientFinancing(.)com SOLD for $2,288 -BuyDoma...   \n",
       "99  chatgpt-shell now offers a post-processing cus...   \n",
       "\n",
       "                    user_location result  \\\n",
       "0                     Decatur, GA    NaN   \n",
       "1                          Mumbai    NaN   \n",
       "2              Mainz, Deutschland    NaN   \n",
       "4                           India    NaN   \n",
       "5                             NaN    NaN   \n",
       "..                            ...    ...   \n",
       "94                   JakartaX.com    NaN   \n",
       "95                            NaN    NaN   \n",
       "97                            NaN    NaN   \n",
       "98                   JakartaX.com    NaN   \n",
       "99  In Emacs, somewhere in London    NaN   \n",
       "\n",
       "                                     user_description  \\\n",
       "0   I work with a number of tools. Right now it's ...   \n",
       "1              My life changed while debugging code 😊   \n",
       "2   Specialized in Regulatory & Digital Intelligen...   \n",
       "4   Independent news aggregator & YouTuber at The ...   \n",
       "5   Your source for daily news about game developm...   \n",
       "..                                                ...   \n",
       "94  Investor in #Crypto & #DomainNames. Selling: h...   \n",
       "95                                                NaN   \n",
       "97                                                NaN   \n",
       "98  Investor in #Crypto & #DomainNames. Selling: h...   \n",
       "99                            https://t.co/cWRvlp5UQ0   \n",
       "\n",
       "                 user_created  user_followers  user_friends  user_favourites  \\\n",
       "0   2020-07-20 14:24:50+00:00             467          1233            49216   \n",
       "1   2022-06-18 04:34:18+00:00               8           126              239   \n",
       "2   2017-10-31 19:35:24+00:00              63           188               88   \n",
       "4   2023-03-07 01:51:53+00:00               0            37                0   \n",
       "5   2020-09-03 15:30:02+00:00            2525           724             1108   \n",
       "..                        ...             ...           ...              ...   \n",
       "94  2012-09-15 17:30:34+00:00            2343          4338            15594   \n",
       "95  2023-03-07 18:17:30+00:00               3            28                0   \n",
       "97  2012-02-19 20:32:50+00:00              99          1058             1175   \n",
       "98  2012-09-15 17:30:34+00:00            2343          4338            15594   \n",
       "99  2010-03-03 14:23:24+00:00             523          1097             1251   \n",
       "\n",
       "    user_verified                       date  \\\n",
       "0           False  2023-04-02 13:44:07+00:00   \n",
       "1           False  2023-04-02 13:43:46+00:00   \n",
       "2           False  2023-04-02 13:43:36+00:00   \n",
       "4           False  2023-04-02 13:42:56+00:00   \n",
       "5           False  2023-04-02 13:42:54+00:00   \n",
       "..            ...                        ...   \n",
       "94          False  2023-04-02 13:14:06+00:00   \n",
       "95          False  2023-04-02 13:13:58+00:00   \n",
       "97          False  2023-04-02 13:13:37+00:00   \n",
       "98          False  2023-04-02 13:12:06+00:00   \n",
       "99          False  2023-04-02 13:11:55+00:00   \n",
       "\n",
       "                                             hashtags               source  \\\n",
       "0                                         ['ChatGPT']      Twitter Web App   \n",
       "1                                         ['ChatGPT']      Twitter Web App   \n",
       "2                                         ['Unicorn']   Twitter for iPhone   \n",
       "4                                                 NaN      Twitter Web App   \n",
       "5   ['gamedev', 'gamedevelopment', 'indiedev', 'AI...      Twitter Web App   \n",
       "..                                                ...                  ...   \n",
       "94                                                NaN      Twitter Web App   \n",
       "95                                        ['ChatGPT']   Twitter for iPhone   \n",
       "97                                                NaN  Twitter for Android   \n",
       "98                                                NaN      Twitter Web App   \n",
       "99                                                NaN      Twitter Web App   \n",
       "\n",
       "   Unnamed: 13  \n",
       "0      chatgpt  \n",
       "1          NaN  \n",
       "2          NaN  \n",
       "4          NaN  \n",
       "5          NaN  \n",
       "..         ...  \n",
       "94         NaN  \n",
       "95         NaN  \n",
       "97         NaN  \n",
       "98         NaN  \n",
       "99         NaN  \n",
       "\n",
       "[75 rows x 14 columns]"
      ]
     },
     "execution_count": 3,
     "metadata": {},
     "output_type": "execute_result"
    }
   ],
   "source": [
    "chat_gpt = [\"ChatGPT \", \"chatgpt\" , \"#chatGPT\" , \"#chatgpt\"]\n",
    "text_cleaned_df = df.loc[df.text.str.contains('|'.join(chat_gpt),case =True)]\n",
    "text_cleaned_df"
   ]
  },
  {
   "cell_type": "code",
   "execution_count": 4,
   "id": "bfc45efe-218f-4ae1-aaec-0ed946a112fc",
   "metadata": {},
   "outputs": [],
   "source": [
    "bot_df = text_cleaned_df.copy()"
   ]
  },
  {
   "cell_type": "markdown",
   "id": "720988ba-a1d0-4de2-831f-0b82a6e8b43a",
   "metadata": {},
   "source": [
    "## Filtering and Cleaning the bot or automated tweets from data "
   ]
  },
  {
   "cell_type": "code",
   "execution_count": 5,
   "id": "eb1aa8ca-6f22-4134-8cca-bf321334e5f7",
   "metadata": {},
   "outputs": [],
   "source": [
    "#creating dataset with variables that can be used as potential indication of bot tweets \n",
    "bot_df = bot_df[[\"user_name\", \"user_created\" , \"user_followers\" , \"user_friends\" , \"user_favourites\", \"user_verified\" , \"source\"]]\n"
   ]
  },
  {
   "cell_type": "code",
   "execution_count": 6,
   "id": "ed84ad4e-9aea-439c-93f7-9e3997d0cfcb",
   "metadata": {},
   "outputs": [
    {
     "data": {
      "text/plain": [
       "False    70\n",
       "True      5\n",
       "Name: user_verified, dtype: int64"
      ]
     },
     "execution_count": 6,
     "metadata": {},
     "output_type": "execute_result"
    }
   ],
   "source": [
    "#account verification cleaning\n",
    "bot_df[\"user_verified\"].value_counts()"
   ]
  },
  {
   "cell_type": "code",
   "execution_count": 7,
   "id": "e5c97844-1e3d-4bce-a022-ac853fa8a2dd",
   "metadata": {},
   "outputs": [],
   "source": [
    "bot_df[\"user_verified\"] = bot_df[\"user_verified\"].astype(bool)"
   ]
  },
  {
   "cell_type": "code",
   "execution_count": 8,
   "id": "e5152994-4a2f-4108-9a47-3a4bbfa7cb41",
   "metadata": {},
   "outputs": [],
   "source": [
    "bot_df[\"user_verified\"] = bot_df[\"user_verified\"].apply(lambda x: str(x))"
   ]
  },
  {
   "cell_type": "code",
   "execution_count": 9,
   "id": "0e345692-466d-4bd4-81b4-b400d31e34c8",
   "metadata": {
    "tags": []
   },
   "outputs": [],
   "source": [
    "verification_filtered_df =bot_df.copy()\n",
    "verification_filtered_df = verification_filtered_df[verification_filtered_df\n",
    "                                                    [\"user_verified\"].str.contains(\"False\")==True]"
   ]
  },
  {
   "cell_type": "code",
   "execution_count": 10,
   "id": "c55bd488-b767-4300-b64d-891c3410d839",
   "metadata": {
    "tags": []
   },
   "outputs": [
    {
     "data": {
      "text/html": [
       "<div>\n",
       "<style scoped>\n",
       "    .dataframe tbody tr th:only-of-type {\n",
       "        vertical-align: middle;\n",
       "    }\n",
       "\n",
       "    .dataframe tbody tr th {\n",
       "        vertical-align: top;\n",
       "    }\n",
       "\n",
       "    .dataframe thead th {\n",
       "        text-align: right;\n",
       "    }\n",
       "</style>\n",
       "<table border=\"1\" class=\"dataframe\">\n",
       "  <thead>\n",
       "    <tr style=\"text-align: right;\">\n",
       "      <th></th>\n",
       "      <th>user_name</th>\n",
       "      <th>user_created</th>\n",
       "      <th>user_followers</th>\n",
       "      <th>user_friends</th>\n",
       "      <th>user_favourites</th>\n",
       "      <th>user_verified</th>\n",
       "      <th>source</th>\n",
       "    </tr>\n",
       "  </thead>\n",
       "  <tbody>\n",
       "    <tr>\n",
       "      <th>16</th>\n",
       "      <td>1827 Marketing News</td>\n",
       "      <td>2019-11-29 23:36:12+00:00</td>\n",
       "      <td>191</td>\n",
       "      <td>1</td>\n",
       "      <td>3620</td>\n",
       "      <td>False</td>\n",
       "      <td>Missinglettr</td>\n",
       "    </tr>\n",
       "    <tr>\n",
       "      <th>26</th>\n",
       "      <td>SaasHoles</td>\n",
       "      <td>2020-07-14 18:46:41+00:00</td>\n",
       "      <td>59</td>\n",
       "      <td>88</td>\n",
       "      <td>198</td>\n",
       "      <td>False</td>\n",
       "      <td>Constant Contact - Social Posts</td>\n",
       "    </tr>\n",
       "    <tr>\n",
       "      <th>29</th>\n",
       "      <td>The Baby Care Foundation (TBCF)</td>\n",
       "      <td>2019-07-20 05:36:24+00:00</td>\n",
       "      <td>270</td>\n",
       "      <td>28</td>\n",
       "      <td>72</td>\n",
       "      <td>False</td>\n",
       "      <td>Metricool</td>\n",
       "    </tr>\n",
       "    <tr>\n",
       "      <th>30</th>\n",
       "      <td>Neoskeptics</td>\n",
       "      <td>2020-04-23 06:03:16+00:00</td>\n",
       "      <td>46</td>\n",
       "      <td>1</td>\n",
       "      <td>23</td>\n",
       "      <td>False</td>\n",
       "      <td>Hootsuite Inc.</td>\n",
       "    </tr>\n",
       "    <tr>\n",
       "      <th>59</th>\n",
       "      <td>keith parnell</td>\n",
       "      <td>2007-05-02 18:17:39+00:00</td>\n",
       "      <td>5969</td>\n",
       "      <td>4457</td>\n",
       "      <td>6677</td>\n",
       "      <td>False</td>\n",
       "      <td>Nelio Content</td>\n",
       "    </tr>\n",
       "    <tr>\n",
       "      <th>84</th>\n",
       "      <td>Amperly AI insights</td>\n",
       "      <td>2022-11-12 17:52:18+00:00</td>\n",
       "      <td>199</td>\n",
       "      <td>53</td>\n",
       "      <td>794</td>\n",
       "      <td>False</td>\n",
       "      <td>SocialChamp IO</td>\n",
       "    </tr>\n",
       "  </tbody>\n",
       "</table>\n",
       "</div>"
      ],
      "text/plain": [
       "                          user_name               user_created  \\\n",
       "16              1827 Marketing News  2019-11-29 23:36:12+00:00   \n",
       "26                        SaasHoles  2020-07-14 18:46:41+00:00   \n",
       "29  The Baby Care Foundation (TBCF)  2019-07-20 05:36:24+00:00   \n",
       "30                      Neoskeptics  2020-04-23 06:03:16+00:00   \n",
       "59                    keith parnell  2007-05-02 18:17:39+00:00   \n",
       "84              Amperly AI insights  2022-11-12 17:52:18+00:00   \n",
       "\n",
       "    user_followers  user_friends  user_favourites user_verified  \\\n",
       "16             191             1             3620         False   \n",
       "26              59            88              198         False   \n",
       "29             270            28               72         False   \n",
       "30              46             1               23         False   \n",
       "59            5969          4457             6677         False   \n",
       "84             199            53              794         False   \n",
       "\n",
       "                             source  \n",
       "16                     Missinglettr  \n",
       "26  Constant Contact - Social Posts  \n",
       "29                        Metricool  \n",
       "30                   Hootsuite Inc.  \n",
       "59                    Nelio Content  \n",
       "84                  SocialChamp IO   "
      ]
     },
     "execution_count": 10,
     "metadata": {},
     "output_type": "execute_result"
    }
   ],
   "source": [
    "#source cleaning\n",
    "source_filtered_bot_df = verification_filtered_df.copy()\n",
    "source_filtered_bot_df = verification_filtered_df[~verification_filtered_df.source.str.contains(\"Tw\")]\n",
    "source_filtered_bot_df"
   ]
  },
  {
   "cell_type": "code",
   "execution_count": 11,
   "id": "2a4801b0-d0d1-40cd-8cd4-e4fd3f2fe5df",
   "metadata": {
    "tags": []
   },
   "outputs": [],
   "source": [
    "# creating new column(bot) to indicate what most likely to be bot account (1 as bot and 0 as human)\n",
    "soure_filtered_bot_df = source_filtered_bot_df.set_index(\"user_name\")\n",
    "bot_list = soure_filtered_bot_df.index.values.tolist()\n"
   ]
  },
  {
   "cell_type": "code",
   "execution_count": 12,
   "id": "10bf1091-955f-490e-95bf-ad99673eb82b",
   "metadata": {},
   "outputs": [
    {
     "name": "stderr",
     "output_type": "stream",
     "text": [
      "C:\\Users\\alber\\anaconda3\\envs\\dev\\lib\\site-packages\\ipykernel_launcher.py:1: SettingWithCopyWarning: \n",
      "A value is trying to be set on a copy of a slice from a DataFrame.\n",
      "Try using .loc[row_indexer,col_indexer] = value instead\n",
      "\n",
      "See the caveats in the documentation: https://pandas.pydata.org/pandas-docs/stable/user_guide/indexing.html#returning-a-view-versus-a-copy\n",
      "  \"\"\"Entry point for launching an IPython kernel.\n"
     ]
    }
   ],
   "source": [
    "text_cleaned_df[\"bot\"] = 0"
   ]
  },
  {
   "cell_type": "code",
   "execution_count": 13,
   "id": "da88a061-b4ce-495b-9843-fc59a02d56d9",
   "metadata": {},
   "outputs": [
    {
     "name": "stderr",
     "output_type": "stream",
     "text": [
      "C:\\Users\\alber\\anaconda3\\envs\\dev\\lib\\site-packages\\pandas\\core\\indexing.py:1817: SettingWithCopyWarning: \n",
      "A value is trying to be set on a copy of a slice from a DataFrame.\n",
      "Try using .loc[row_indexer,col_indexer] = value instead\n",
      "\n",
      "See the caveats in the documentation: https://pandas.pydata.org/pandas-docs/stable/user_guide/indexing.html#returning-a-view-versus-a-copy\n",
      "  self._setitem_single_column(loc, value, pi)\n"
     ]
    }
   ],
   "source": [
    "for key, row in text_cleaned_df.iterrows():\n",
    "    for y in bot_list:\n",
    "        if row[0] == y:\n",
    "            text_cleaned_df.loc[key, \"bot\"] = 1\n",
    "       "
   ]
  },
  {
   "cell_type": "code",
   "execution_count": 14,
   "id": "745ac0fe-d060-4b1f-a340-1fd8e1f1c1c1",
   "metadata": {},
   "outputs": [
    {
     "data": {
      "text/plain": [
       "0    69\n",
       "1     6\n",
       "Name: bot, dtype: int64"
      ]
     },
     "execution_count": 14,
     "metadata": {},
     "output_type": "execute_result"
    }
   ],
   "source": [
    "text_cleaned_df[\"bot\"].value_counts()\n"
   ]
  },
  {
   "cell_type": "markdown",
   "id": "14467c11-7862-44fa-86ca-817d1f8b37d5",
   "metadata": {},
   "source": [
    "## Roberta Polarity Test"
   ]
  },
  {
   "cell_type": "code",
   "execution_count": 15,
   "id": "bb037d0d-6d3b-4306-b85c-73ae37c0e3d6",
   "metadata": {},
   "outputs": [
    {
     "data": {
      "text/plain": [
       "\"#ChatGPT #OpenAI I'm all for developing humanity. But at what cost. Are we ready for a superintelligent being that sees us as a challenge to limited resources? \\nIt isn't sci-fi anymore, it is dangerously close. #showerthoughts #chatgpt5\""
      ]
     },
     "execution_count": 15,
     "metadata": {},
     "output_type": "execute_result"
    }
   ],
   "source": [
    "sample_tweet = text_cleaned_df[\"text\"].values[35]\n",
    "sample_tweet"
   ]
  },
  {
   "cell_type": "code",
   "execution_count": 16,
   "id": "ee7d91ae-2435-4378-8a87-5806a97324fc",
   "metadata": {},
   "outputs": [],
   "source": [
    "roberta = \"cardiffnlp/twitter-roberta-base-sentiment\"\n",
    "tokenizer = AutoTokenizer.from_pretrained(roberta)\n",
    "model = AutoModelForSequenceClassification.from_pretrained(roberta)\n"
   ]
  },
  {
   "cell_type": "code",
   "execution_count": 17,
   "id": "2cbcce9a-0557-4e7f-88cd-4701f96124a4",
   "metadata": {},
   "outputs": [],
   "source": [
    "result={}\n",
    "text_list = []\n",
    "name_list = []"
   ]
  },
  {
   "cell_type": "code",
   "execution_count": 18,
   "id": "2136e1e6-00c8-4a67-adf2-3ee7ecfc25b7",
   "metadata": {},
   "outputs": [],
   "source": [
    "def polarity_scores(sample_tweet):\n",
    "    encoded_tweet = tokenizer(sample_tweet, return_tensors='pt')\n",
    "    output = model(**encoded_tweet)\n",
    "    scores = output[0][0].detach().numpy()\n",
    "    scores = softmax(scores)\n",
    "    scores_value = {'roberta_negative': scores[0],\n",
    "                    'roberta_neutral': scores[1],\n",
    "                    'roberta_positive': scores[2]\n",
    "                   }\n",
    "    return scores_value\n",
    "\n",
    "for index, row in text_cleaned_df.iterrows():\n",
    "    text = row[\"text\"]\n",
    "    name_list.append(row[\"user_name\"])\n",
    "    result[text] = polarity_scores(text)"
   ]
  },
  {
   "cell_type": "code",
   "execution_count": 19,
   "id": "53af5c1a-ff8f-4c6b-998f-84c5bbad62f8",
   "metadata": {},
   "outputs": [],
   "source": [
    "roberta_analysis_df = pd.DataFrame.from_dict(result)\n",
    "roberta_analysis_df = roberta_analysis_df.T"
   ]
  },
  {
   "cell_type": "code",
   "execution_count": 20,
   "id": "6e52807f-6d1b-4067-8362-ace5954de54b",
   "metadata": {},
   "outputs": [],
   "source": [
    "roberta_analysis_df['user_name'] = name_list"
   ]
  },
  {
   "cell_type": "code",
   "execution_count": 21,
   "id": "752f5683-2bce-450d-a515-9bbfae4efe6c",
   "metadata": {
    "tags": []
   },
   "outputs": [],
   "source": [
    "roberta_analysis_df = roberta_analysis_df.reset_index()"
   ]
  },
  {
   "cell_type": "code",
   "execution_count": 22,
   "id": "f41f9d72-5928-4000-a1ab-9dead216ca60",
   "metadata": {},
   "outputs": [],
   "source": [
    "roberta_analysis_df = roberta_analysis_df.drop([\"index\"], axis = 1 )"
   ]
  },
  {
   "cell_type": "code",
   "execution_count": 23,
   "id": "d8e1d031-1f00-4a67-a276-b37d6d4c0d37",
   "metadata": {},
   "outputs": [
    {
     "data": {
      "text/html": [
       "<div>\n",
       "<style scoped>\n",
       "    .dataframe tbody tr th:only-of-type {\n",
       "        vertical-align: middle;\n",
       "    }\n",
       "\n",
       "    .dataframe tbody tr th {\n",
       "        vertical-align: top;\n",
       "    }\n",
       "\n",
       "    .dataframe thead th {\n",
       "        text-align: right;\n",
       "    }\n",
       "</style>\n",
       "<table border=\"1\" class=\"dataframe\">\n",
       "  <thead>\n",
       "    <tr style=\"text-align: right;\">\n",
       "      <th></th>\n",
       "      <th>user_name</th>\n",
       "      <th>roberta_negative</th>\n",
       "      <th>roberta_neutral</th>\n",
       "      <th>roberta_positive</th>\n",
       "    </tr>\n",
       "  </thead>\n",
       "  <tbody>\n",
       "    <tr>\n",
       "      <th>0</th>\n",
       "      <td>Math_Maniac</td>\n",
       "      <td>0.035246</td>\n",
       "      <td>0.910445</td>\n",
       "      <td>0.054309</td>\n",
       "    </tr>\n",
       "    <tr>\n",
       "      <th>1</th>\n",
       "      <td>SmashKoders</td>\n",
       "      <td>0.031501</td>\n",
       "      <td>0.375222</td>\n",
       "      <td>0.593278</td>\n",
       "    </tr>\n",
       "    <tr>\n",
       "      <th>2</th>\n",
       "      <td>Andreas Illenseer</td>\n",
       "      <td>0.006352</td>\n",
       "      <td>0.114942</td>\n",
       "      <td>0.878707</td>\n",
       "    </tr>\n",
       "    <tr>\n",
       "      <th>3</th>\n",
       "      <td>The Media Scoop</td>\n",
       "      <td>0.338151</td>\n",
       "      <td>0.620923</td>\n",
       "      <td>0.040926</td>\n",
       "    </tr>\n",
       "    <tr>\n",
       "      <th>4</th>\n",
       "      <td>Game Development Daily News</td>\n",
       "      <td>0.036832</td>\n",
       "      <td>0.884951</td>\n",
       "      <td>0.078217</td>\n",
       "    </tr>\n",
       "  </tbody>\n",
       "</table>\n",
       "</div>"
      ],
      "text/plain": [
       "                     user_name  roberta_negative  roberta_neutral  \\\n",
       "0                  Math_Maniac          0.035246         0.910445   \n",
       "1                  SmashKoders          0.031501         0.375222   \n",
       "2            Andreas Illenseer          0.006352         0.114942   \n",
       "3              The Media Scoop          0.338151         0.620923   \n",
       "4  Game Development Daily News          0.036832         0.884951   \n",
       "\n",
       "   roberta_positive  \n",
       "0          0.054309  \n",
       "1          0.593278  \n",
       "2          0.878707  \n",
       "3          0.040926  \n",
       "4          0.078217  "
      ]
     },
     "execution_count": 23,
     "metadata": {},
     "output_type": "execute_result"
    }
   ],
   "source": [
    "roberta_analysis_df = roberta_analysis_df[[\"user_name\", \"roberta_negative\" , \"roberta_neutral\" , \"roberta_positive\"]]\n",
    "roberta_analysis_df.head()"
   ]
  },
  {
   "cell_type": "code",
   "execution_count": null,
   "id": "0022a5b9-a4ec-43f6-9c35-0402a0650d30",
   "metadata": {},
   "outputs": [],
   "source": []
  }
 ],
 "metadata": {
  "kernelspec": {
   "display_name": "Python 3 (ipykernel)",
   "language": "python",
   "name": "python3"
  },
  "language_info": {
   "codemirror_mode": {
    "name": "ipython",
    "version": 3
   },
   "file_extension": ".py",
   "mimetype": "text/x-python",
   "name": "python",
   "nbconvert_exporter": "python",
   "pygments_lexer": "ipython3",
   "version": "3.7.15"
  }
 },
 "nbformat": 4,
 "nbformat_minor": 5
}
